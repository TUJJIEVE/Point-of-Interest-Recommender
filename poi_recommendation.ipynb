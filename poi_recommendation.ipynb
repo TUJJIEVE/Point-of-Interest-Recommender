{
  "nbformat": 4,
  "nbformat_minor": 0,
  "metadata": {
    "colab": {
      "name": "poi_recommendation",
      "version": "0.3.2",
      "provenance": [],
      "collapsed_sections": [],
      "toc_visible": true
    },
    "kernelspec": {
      "name": "python3",
      "display_name": "Python 3"
    },
    "accelerator": "GPU"
  },
  "cells": [
    {
      "metadata": {
        "id": "nykV7nsSXCmN",
        "colab_type": "text"
      },
      "cell_type": "markdown",
      "source": [
        "# TIME AWARE POI RECOMMENDATION SYSTEM \n",
        "    Project for CS6670\n",
        "    \n",
        "    \n",
        "BY\n",
        "\n",
        "*   CS16BTECH11039\n",
        "*   CS16BTECH11029\n",
        "*   CS16BTECH11034\n",
        "*   CS16BTECH11002\n",
        "\n"
      ]
    },
    {
      "metadata": {
        "id": "l8TNUEoXW58j",
        "colab_type": "text"
      },
      "cell_type": "markdown",
      "source": [
        "# For GOOGLE COLAB"
      ]
    },
    {
      "metadata": {
        "id": "pJncxR7786cW",
        "colab_type": "code",
        "outputId": "e6ed30b3-671c-4adf-e97c-627e22637c46",
        "colab": {
          "base_uri": "https://localhost:8080/",
          "height": 51
        }
      },
      "cell_type": "code",
      "source": [
        "! pip3 install -U -q PyDrive"
      ],
      "execution_count": 1,
      "outputs": [
        {
          "output_type": "stream",
          "text": [
            "\u001b[?25l\r\u001b[K    1% |▎                               | 10kB 19.5MB/s eta 0:00:01\r\u001b[K    2% |▋                               | 20kB 1.8MB/s eta 0:00:01\r\u001b[K    3% |█                               | 30kB 2.6MB/s eta 0:00:01\r\u001b[K    4% |█▎                              | 40kB 1.7MB/s eta 0:00:01\r\u001b[K    5% |█▋                              | 51kB 2.1MB/s eta 0:00:01\r\u001b[K    6% |██                              | 61kB 2.5MB/s eta 0:00:01\r\u001b[K    7% |██▎                             | 71kB 2.9MB/s eta 0:00:01\r\u001b[K    8% |██▋                             | 81kB 3.2MB/s eta 0:00:01\r\u001b[K    9% |███                             | 92kB 3.6MB/s eta 0:00:01\r\u001b[K    10% |███▎                            | 102kB 2.8MB/s eta 0:00:01\r\u001b[K    11% |███▋                            | 112kB 2.8MB/s eta 0:00:01\r\u001b[K    12% |████                            | 122kB 4.0MB/s eta 0:00:01\r\u001b[K    13% |████▎                           | 133kB 4.0MB/s eta 0:00:01\r\u001b[K    14% |████▋                           | 143kB 7.5MB/s eta 0:00:01\r\u001b[K    15% |█████                           | 153kB 7.6MB/s eta 0:00:01\r\u001b[K    16% |█████▎                          | 163kB 7.6MB/s eta 0:00:01\r\u001b[K    17% |█████▋                          | 174kB 7.7MB/s eta 0:00:01\r\u001b[K    18% |██████                          | 184kB 7.7MB/s eta 0:00:01\r\u001b[K    19% |██████▎                         | 194kB 7.7MB/s eta 0:00:01\r\u001b[K    20% |██████▋                         | 204kB 36.7MB/s eta 0:00:01\r\u001b[K    21% |███████                         | 215kB 8.3MB/s eta 0:00:01\r\u001b[K    22% |███████▎                        | 225kB 8.3MB/s eta 0:00:01\r\u001b[K    23% |███████▋                        | 235kB 8.4MB/s eta 0:00:01\r\u001b[K    24% |████████                        | 245kB 8.4MB/s eta 0:00:01\r\u001b[K    25% |████████▎                       | 256kB 8.4MB/s eta 0:00:01\r\u001b[K    26% |████████▋                       | 266kB 8.3MB/s eta 0:00:01\r\u001b[K    27% |█████████                       | 276kB 8.4MB/s eta 0:00:01\r\u001b[K    29% |█████████▎                      | 286kB 8.4MB/s eta 0:00:01\r\u001b[K    30% |█████████▋                      | 296kB 8.3MB/s eta 0:00:01\r\u001b[K    31% |██████████                      | 307kB 8.6MB/s eta 0:00:01\r\u001b[K    32% |██████████▎                     | 317kB 42.9MB/s eta 0:00:01\r\u001b[K    33% |██████████▋                     | 327kB 43.8MB/s eta 0:00:01\r\u001b[K    34% |███████████                     | 337kB 44.5MB/s eta 0:00:01\r\u001b[K    35% |███████████▎                    | 348kB 39.8MB/s eta 0:00:01\r\u001b[K    36% |███████████▋                    | 358kB 39.1MB/s eta 0:00:01\r\u001b[K    37% |████████████                    | 368kB 44.2MB/s eta 0:00:01\r\u001b[K    38% |████████████▎                   | 378kB 43.8MB/s eta 0:00:01\r\u001b[K    39% |████████████▋                   | 389kB 43.9MB/s eta 0:00:01\r\u001b[K    40% |█████████████                   | 399kB 9.7MB/s eta 0:00:01\r\u001b[K    41% |█████████████▎                  | 409kB 9.7MB/s eta 0:00:01\r\u001b[K    42% |█████████████▋                  | 419kB 9.7MB/s eta 0:00:01\r\u001b[K    43% |██████████████                  | 430kB 9.7MB/s eta 0:00:01\r\u001b[K    44% |██████████████▎                 | 440kB 9.6MB/s eta 0:00:01\r\u001b[K    45% |██████████████▋                 | 450kB 9.7MB/s eta 0:00:01\r\u001b[K    46% |███████████████                 | 460kB 9.8MB/s eta 0:00:01\r\u001b[K    47% |███████████████▎                | 471kB 9.8MB/s eta 0:00:01\r\u001b[K    48% |███████████████▋                | 481kB 9.8MB/s eta 0:00:01\r\u001b[K    49% |████████████████                | 491kB 9.8MB/s eta 0:00:01\r\u001b[K    50% |████████████████▎               | 501kB 45.9MB/s eta 0:00:01\r\u001b[K    51% |████████████████▋               | 512kB 43.9MB/s eta 0:00:01\r\u001b[K    52% |█████████████████               | 522kB 44.0MB/s eta 0:00:01\r\u001b[K    53% |█████████████████▎              | 532kB 43.3MB/s eta 0:00:01\r\u001b[K    54% |█████████████████▋              | 542kB 45.5MB/s eta 0:00:01\r\u001b[K    55% |██████████████████              | 552kB 9.1MB/s eta 0:00:01\r\u001b[K    57% |██████████████████▎             | 563kB 9.0MB/s eta 0:00:01\r\u001b[K    58% |██████████████████▋             | 573kB 9.0MB/s eta 0:00:01\r\u001b[K    59% |███████████████████             | 583kB 8.9MB/s eta 0:00:01\r\u001b[K    60% |███████████████████▎            | 593kB 8.9MB/s eta 0:00:01\r\u001b[K    61% |███████████████████▋            | 604kB 9.0MB/s eta 0:00:01\r\u001b[K    62% |████████████████████            | 614kB 9.1MB/s eta 0:00:01\r\u001b[K    63% |████████████████████▎           | 624kB 9.1MB/s eta 0:00:01\r\u001b[K    64% |████████████████████▋           | 634kB 9.1MB/s eta 0:00:01\r\u001b[K    65% |█████████████████████           | 645kB 9.0MB/s eta 0:00:01\r\u001b[K    66% |█████████████████████▎          | 655kB 46.3MB/s eta 0:00:01\r\u001b[K    67% |█████████████████████▋          | 665kB 39.5MB/s eta 0:00:01\r\u001b[K    68% |██████████████████████          | 675kB 40.6MB/s eta 0:00:01\r\u001b[K    69% |██████████████████████▎         | 686kB 41.9MB/s eta 0:00:01\r\u001b[K    70% |██████████████████████▋         | 696kB 41.6MB/s eta 0:00:01\r\u001b[K    71% |███████████████████████         | 706kB 41.9MB/s eta 0:00:01\r\u001b[K    72% |███████████████████████▎        | 716kB 42.1MB/s eta 0:00:01\r\u001b[K    73% |███████████████████████▋        | 727kB 41.4MB/s eta 0:00:01\r\u001b[K    74% |████████████████████████        | 737kB 41.9MB/s eta 0:00:01\r\u001b[K    75% |████████████████████████▎       | 747kB 42.4MB/s eta 0:00:01\r\u001b[K    76% |████████████████████████▋       | 757kB 41.5MB/s eta 0:00:01\r\u001b[K    77% |████████████████████████▉       | 768kB 51.5MB/s eta 0:00:01\r\u001b[K    78% |█████████████████████████▏      | 778kB 51.3MB/s eta 0:00:01\r\u001b[K    79% |█████████████████████████▌      | 788kB 51.7MB/s eta 0:00:01\r\u001b[K    80% |█████████████████████████▉      | 798kB 51.7MB/s eta 0:00:01\r\u001b[K    81% |██████████████████████████▏     | 808kB 51.2MB/s eta 0:00:01\r\u001b[K    82% |██████████████████████████▌     | 819kB 51.2MB/s eta 0:00:01\r\u001b[K    83% |██████████████████████████▉     | 829kB 51.3MB/s eta 0:00:01\r\u001b[K    85% |███████████████████████████▏    | 839kB 51.2MB/s eta 0:00:01\r\u001b[K    86% |███████████████████████████▌    | 849kB 51.2MB/s eta 0:00:01\r\u001b[K    87% |███████████████████████████▉    | 860kB 45.5MB/s eta 0:00:01\r\u001b[K    88% |████████████████████████████▏   | 870kB 46.3MB/s eta 0:00:01\r\u001b[K    89% |████████████████████████████▌   | 880kB 46.1MB/s eta 0:00:01\r\u001b[K    90% |████████████████████████████▉   | 890kB 45.5MB/s eta 0:00:01\r\u001b[K    91% |█████████████████████████████▏  | 901kB 46.4MB/s eta 0:00:01\r\u001b[K    92% |█████████████████████████████▌  | 911kB 46.5MB/s eta 0:00:01\r\u001b[K    93% |█████████████████████████████▉  | 921kB 45.3MB/s eta 0:00:01\r\u001b[K    94% |██████████████████████████████▏ | 931kB 45.1MB/s eta 0:00:01\r\u001b[K    95% |██████████████████████████████▌ | 942kB 44.9MB/s eta 0:00:01\r\u001b[K    96% |██████████████████████████████▉ | 952kB 45.8MB/s eta 0:00:01\r\u001b[K    97% |███████████████████████████████▏| 962kB 50.4MB/s eta 0:00:01\r\u001b[K    98% |███████████████████████████████▌| 972kB 48.9MB/s eta 0:00:01\r\u001b[K    99% |███████████████████████████████▉| 983kB 47.2MB/s eta 0:00:01\r\u001b[K    100% |████████████████████████████████| 993kB 16.8MB/s \n",
            "\u001b[?25h  Building wheel for PyDrive (setup.py) ... \u001b[?25ldone\n",
            "\u001b[?25h"
          ],
          "name": "stdout"
        }
      ]
    },
    {
      "metadata": {
        "id": "8uAIkQa6-NWq",
        "colab_type": "code",
        "colab": {}
      },
      "cell_type": "code",
      "source": [
        "! pip3 install h5py"
      ],
      "execution_count": 0,
      "outputs": []
    },
    {
      "metadata": {
        "id": "mkkye-zf0rFW",
        "colab_type": "code",
        "colab": {}
      },
      "cell_type": "code",
      "source": [
        "import numpy as np\n",
        "import sklearn as sk\n",
        "from sklearn.metrics.pairwise import cosine_similarity\n",
        "import tensorflow as tf\n",
        "from pydrive.auth import GoogleAuth\n",
        "from pydrive.drive import GoogleDrive\n",
        "from google.colab import auth\n",
        "from oauth2client.client import GoogleCredentials\n",
        "from google.colab import files\n",
        "from scipy import sparse\n",
        "from math import sqrt\n",
        "import math\n",
        "from scipy.sparse import *"
      ],
      "execution_count": 0,
      "outputs": []
    },
    {
      "metadata": {
        "id": "Dn-GbKiq0DIq",
        "colab_type": "text"
      },
      "cell_type": "markdown",
      "source": [
        "#### click link and then sign in using your google email"
      ]
    },
    {
      "metadata": {
        "id": "ILHIDDMYCroY",
        "colab_type": "code",
        "colab": {}
      },
      "cell_type": "code",
      "source": [
        "auth.authenticate_user()\n",
        "gauth = GoogleAuth()\n",
        "gauth.credentials = GoogleCredentials.get_application_default()\n",
        "drive = GoogleDrive(gauth)"
      ],
      "execution_count": 0,
      "outputs": []
    },
    {
      "metadata": {
        "id": "PmYIEG1M0TNg",
        "colab_type": "text"
      },
      "cell_type": "markdown",
      "source": [
        "### For downloading and extracting the data set see in the left pane of window for the dataset"
      ]
    },
    {
      "metadata": {
        "id": "jZvCvwNQKWwq",
        "colab_type": "code",
        "colab": {}
      },
      "cell_type": "code",
      "source": [
        "download = drive.CreateFile({'id': '1_p8KruCi1zMOXl7phAt6FY0L16b8kpde'})\n",
        "download.GetContentFile('poidata.tar')"
      ],
      "execution_count": 0,
      "outputs": []
    },
    {
      "metadata": {
        "id": "LB2KwmhepCQ7",
        "colab_type": "code",
        "colab": {}
      },
      "cell_type": "code",
      "source": [
        "download = drive.CreateFile({'id': '1X3gQmWBc4vzf5udsPrqc0XISFZROmK2W'})\n",
        "download.GetContentFile('simi.csv')"
      ],
      "execution_count": 0,
      "outputs": []
    },
    {
      "metadata": {
        "id": "AtWv1gkipOiI",
        "colab_type": "code",
        "colab": {}
      },
      "cell_type": "code",
      "source": [
        "download = drive.CreateFile({'id': '1y2MaxDjIplMtRaWy-7dG9m47VU2ILiRx'})\n",
        "download.GetContentFile('wuv.csv')"
      ],
      "execution_count": 0,
      "outputs": []
    },
    {
      "metadata": {
        "id": "TyeWtFsC9Haq",
        "colab_type": "code",
        "colab": {}
      },
      "cell_type": "code",
      "source": [
        "download = drive.CreateFile({'id':'1HcdMaID94WZSKslBKLbZ5clwWe3GYD9b'})\n",
        "download.GetContentFile('hi.tar.gz')"
      ],
      "execution_count": 0,
      "outputs": []
    },
    {
      "metadata": {
        "id": "592AUTZszIK4",
        "colab_type": "code",
        "colab": {}
      },
      "cell_type": "code",
      "source": [
        "download = drive.CreateFile({'id':'1HshGNzhNOZEXfDN0QBSKSyMOQCb-KXYZ'})\n",
        "download.GetContentFile('cult.tar.gz')"
      ],
      "execution_count": 0,
      "outputs": []
    },
    {
      "metadata": {
        "id": "w9ADHgWIMNqB",
        "colab_type": "code",
        "colab": {}
      },
      "cell_type": "code",
      "source": [
        "! pwd"
      ],
      "execution_count": 0,
      "outputs": []
    },
    {
      "metadata": {
        "id": "n7-Kn0-q0Bmt",
        "colab_type": "code",
        "colab": {}
      },
      "cell_type": "code",
      "source": [
        "! tar -xvzf cult.tar.gz"
      ],
      "execution_count": 0,
      "outputs": []
    },
    {
      "metadata": {
        "id": "5uW77rm3uzma",
        "colab_type": "code",
        "colab": {}
      },
      "cell_type": "code",
      "source": [
        "\n",
        "download = drive.CreateFile({'id':'11W8EVfbBtMW8TajayNKqf8JTa4_s2pOg'})\n",
        "download.GetContentFile('hi')"
      ],
      "execution_count": 0,
      "outputs": []
    },
    {
      "metadata": {
        "id": "v4Az800mhz0H",
        "colab_type": "code",
        "colab": {}
      },
      "cell_type": "code",
      "source": [
        "! tar -xvzf hi.tar.gz"
      ],
      "execution_count": 0,
      "outputs": []
    },
    {
      "metadata": {
        "id": "mqo4PLX3L0XB",
        "colab_type": "code",
        "colab": {}
      },
      "cell_type": "code",
      "source": [
        "! tar -xvf poidata.tar\n",
        "! echo $?"
      ],
      "execution_count": 0,
      "outputs": []
    },
    {
      "metadata": {
        "id": "E0R6337pW0JR",
        "colab_type": "text"
      },
      "cell_type": "markdown",
      "source": [
        "# Pre Process"
      ]
    },
    {
      "metadata": {
        "id": "tC0tn-qm0445",
        "colab_type": "code",
        "colab": {}
      },
      "cell_type": "code",
      "source": [
        "class preProcessPOI:\n",
        "    \n",
        "    def __init__(self,fi1,fi2,fi3):\n",
        "        self.train = open(fi1,\"r\")\n",
        "        self.tune = open(fi2,\"r\")\n",
        "        self.test = open(fi3,\"r\")\n",
        "        count = 0  \n",
        "        user = []\n",
        "        loc = []\n",
        "        for line in self.train:\n",
        "            l = line.split('\\t')    \n",
        "            user.append(l[0].strip())\n",
        "            loc.append(l[1].strip())\n",
        "            count+=1\n",
        "        self.numUsers = len(set(user))\n",
        "        self.numLoc = len(set(loc))\n",
        "        self.numTimeSlots = 24\n",
        "        self.K = 0\n",
        "        self.alpha = 0\n",
        "        self.beta = 0\n",
        "        self.A = 0\n",
        "        \n",
        "        self.data = np.zeros((2321,5596,24))\n",
        "        \n",
        "        self.locIdToCoord = np.zeros((self.numLoc,2),dtype = np.float)\n",
        "        self.timeSimi = np.zeros((self.numTimeSlots,self.numTimeSlots),dtype = np.float)\n",
        "        self.tot_check_ins = np.zeros((self.numLoc,),dtype = np.int32)\n",
        "        self.tot_check_ins_time = np.zeros((self.numLoc,self.numTimeSlots),dtype = np.int32)\n",
        "        self.dateDict = {}\n",
        "        \n",
        "    def readFile(self):\n",
        "        self.train.seek(0)\n",
        "        dateDic = {}\n",
        "        lineNo = 0\n",
        "        for line in self.train:\n",
        "            line = line.strip()\n",
        "            arr = line.split('\\t')\n",
        "            locId =int (arr[1].split('_')[1])\n",
        "            coord  = (arr[2].split(','))\n",
        "            userId = int (arr[0].split('_')[1])\n",
        "            timeSlot = int (arr[3].split(':')[0]) \n",
        "                            \n",
        "            noMins = arr[3]\n",
        "            dateId = int(arr[4])\n",
        "            \n",
        "\n",
        "            if dateId in dateDic :\n",
        "                if userId in dateDic[dateId] :\n",
        "                    if noMins in dateDic[dateId][userId] :\n",
        "                        dateDic[dateId][userId][noMins].append(locId )\n",
        "                    else:\n",
        "                        dateDic[dateId][userId][noMins] = [locId]     \n",
        "                else :\n",
        "                    dateDic[dateId][userId] = {}\n",
        "                    dateDic[dateId][userId][noMins] = [locId]\n",
        "            else :\n",
        "                dateDic[dateId] = {}\n",
        "                dateDic[dateId][userId] = {}\n",
        "                dateDic[dateId][userId][noMins] = [locId]\n",
        "                \n",
        "            \n",
        "            lineNo+=1\n",
        "            self.locIdToCoord[locId,0] = float (coord[0])\n",
        "            self.locIdToCoord[locId,1] = float (coord[1])\n",
        "            self.data[userId,locId,timeSlot] = 1\n",
        "            \n",
        "            self.tot_check_ins[locId]+=1\n",
        "            self.tot_check_ins_time[locId,timeSlot] +=1\n",
        "        \n",
        "        dateDic2 = {}\n",
        "        for x in dateDic :\n",
        "            print(x)\n",
        "            dateDic2[x] = {}\n",
        "            \n",
        "            temp = {}\n",
        "            tempDic = dateDic[x]\n",
        "            print(dateDic[x])           \n",
        "            print(tempDic)\n",
        "            for user in tempDic :\n",
        "                tempDic2 = tempDic[user]\n",
        "                tempsortedKeys = list(tempDic2)\n",
        "                sortedKeys = sorted(tempsortedKeys)\n",
        "                sortedData = []\n",
        "                for y in sortedKeys :\n",
        "                    sortedData.extend(tempDic2[y])\n",
        "                temp[user] = sortedData\n",
        "            print(temp)\n",
        "            dateDic2[x] = temp\n",
        "\n",
        "        print(dateDic2)\n",
        "        self.dateDict = dateDic2\n",
        "    def getCoord(self,loc):\n",
        "        return self.locIdToCoord[loc][0],self.locIdToCoord[loc][1]\n",
        "            \n",
        "    def createCheckInVector(self,userID,timeSlot):\n",
        "            temp = np.zeros((self.numLoc,), dtype = np.float)         \n",
        "            temp[self.data[userID,:,timeSlot] == 1] = 1.0\n",
        "            return temp"
      ],
      "execution_count": 0,
      "outputs": []
    },
    {
      "metadata": {
        "id": "XyWambIA0gpT",
        "colab_type": "text"
      },
      "cell_type": "markdown",
      "source": [
        "### FOR PRE PROCESSING THE DATA"
      ]
    },
    {
      "metadata": {
        "id": "Za8_kPKr1Dma",
        "colab_type": "code",
        "outputId": "4e6d12b0-277f-49d4-f3d2-cd5ebc856f10",
        "colab": {
          "base_uri": "https://localhost:8080/",
          "height": 51
        }
      },
      "cell_type": "code",
      "source": [
        "poiData = preProcessPOI(\"/content/home/ujjieve/Desktop/poiRec/poidata/Foursquare/train.txt\",\"/content/home/ujjieve/Desktop/poiRec/poidata/Foursquare/tune.txt\",\"/content/home/ujjieve/Desktop/poiRec/poidata/Foursquare/test.txt\")\n",
        "poiData.readFile()\n",
        "print (poiData.numLoc,poiData.numUsers)"
      ],
      "execution_count": 39,
      "outputs": [
        {
          "output_type": "stream",
          "text": [
            "194108\n",
            "5596 2321\n"
          ],
          "name": "stdout"
        }
      ]
    },
    {
      "metadata": {
        "id": "rfT4JSV3Srec",
        "colab_type": "text"
      },
      "cell_type": "markdown",
      "source": [
        "# Temporal Influence\n",
        "\n",
        "## For computing the time similarity"
      ]
    },
    {
      "metadata": {
        "id": "4rL1ePBcix6t",
        "colab_type": "code",
        "colab": {}
      },
      "cell_type": "code",
      "source": [
        "### For getting rho_t_t' given in formula of section 3.3 of pdf \n",
        "\n",
        "def compute_time_simi(poi):\n",
        "   \n",
        "    for i in range(poiData.numTimeSlots):\n",
        "        for j in range(i, poiData.numTimeSlots):\n",
        "            if i==j:\n",
        "                poiData.timeSimi[i,j] = 1.0\n",
        "                continue\n",
        "            sum = 0.0\n",
        "            for user in range(poiData.numUsers):\n",
        "                ci = poiData.createCheckInVector(user, i)\n",
        "                cj = poiData.createCheckInVector(user, j)\n",
        "                sum += cosine_similarity(ci.reshape(1,-1),cj.reshape(1,-1))[0]\n",
        "            poiData.timeSimi[i,j] = poiData.timeSimi[j,i] = sum / poiData.numUsers\n",
        "        print(i)\n",
        "         "
      ],
      "execution_count": 0,
      "outputs": []
    },
    {
      "metadata": {
        "id": "e1sKWL891UzV",
        "colab_type": "code",
        "colab": {}
      },
      "cell_type": "code",
      "source": [
        "## TO compute the rho\n",
        "%time compute_time_simi(poiData) \n"
      ],
      "execution_count": 0,
      "outputs": []
    },
    {
      "metadata": {
        "id": "OAxNk2CeImI3",
        "colab_type": "code",
        "colab": {}
      },
      "cell_type": "code",
      "source": [
        "np.savetxt('simi.csv',poiData.timeSimi,delimiter = ',')"
      ],
      "execution_count": 0,
      "outputs": []
    },
    {
      "metadata": {
        "id": "mecmxQAebn5C",
        "colab_type": "code",
        "colab": {}
      },
      "cell_type": "code",
      "source": [
        "print(poiData.timeSimi)"
      ],
      "execution_count": 0,
      "outputs": []
    },
    {
      "metadata": {
        "id": "H-S2IqCNoh6R",
        "colab_type": "code",
        "colab": {}
      },
      "cell_type": "code",
      "source": [
        "timeSimi = np.genfromtxt('simi.csv',delimiter = ',')"
      ],
      "execution_count": 0,
      "outputs": []
    },
    {
      "metadata": {
        "id": "7m7uRHdypcg5",
        "colab_type": "code",
        "colab": {}
      },
      "cell_type": "code",
      "source": [
        "print(timeSimi)"
      ],
      "execution_count": 0,
      "outputs": []
    },
    {
      "metadata": {
        "id": "zU3uJQ4Wpi3w",
        "colab_type": "code",
        "colab": {}
      },
      "cell_type": "code",
      "source": [
        "wuv_matrix = np.genfromtxt('wuv.csv',delimiter = ',')"
      ],
      "execution_count": 0,
      "outputs": []
    },
    {
      "metadata": {
        "id": "stExPDftpypR",
        "colab_type": "code",
        "colab": {}
      },
      "cell_type": "code",
      "source": [
        "print(wuv_matrix)"
      ],
      "execution_count": 0,
      "outputs": []
    },
    {
      "metadata": {
        "id": "VJ8B-N8gS6aS",
        "colab_type": "text"
      },
      "cell_type": "markdown",
      "source": [
        "### For getting the UTP cube matrix with time smoothing enhancement"
      ]
    },
    {
      "metadata": {
        "id": "zTWYhdVioZmy",
        "colab_type": "code",
        "colab": {}
      },
      "cell_type": "code",
      "source": [
        "## for getting the matrix cutl  given in section 3.3 of pdf \n",
        "def get_mcutl(poi,timeSimi):\n",
        "    mcutl = np.zeros((poi.numUsers,poi.numLoc,poi.numTimeSlots), dtype = np.float)\n",
        "    x = np.sum(timeSimi,axis = 1)\n",
        "    \n",
        "    for u in range(poi.numUsers):\n",
        "        hi = np.genfromtxt('cutl' + str(u) + '.csv',delimiter = ',')\n",
        "        mcutl[u] =  ( np.dot( hi ,timeSimi )) / x\n",
        "        \n",
        "    \n",
        "    return mcutl   \n",
        "        \n"
      ],
      "execution_count": 0,
      "outputs": []
    },
    {
      "metadata": {
        "id": "JMXceXjB1_5u",
        "colab_type": "code",
        "colab": {}
      },
      "cell_type": "code",
      "source": [
        "%time mcutl = get_mcutl(poiData,timeSimi)"
      ],
      "execution_count": 0,
      "outputs": []
    },
    {
      "metadata": {
        "id": "wiQFKocJ2rQA",
        "colab_type": "code",
        "colab": {}
      },
      "cell_type": "code",
      "source": [
        "print(mcutl)"
      ],
      "execution_count": 0,
      "outputs": []
    },
    {
      "metadata": {
        "id": "Z1G_5rueDoGu",
        "colab_type": "code",
        "colab": {}
      },
      "cell_type": "code",
      "source": [
        "with open('mcutl.txt', 'w') as outfile:\n",
        "    # I'm writing a header here just for the sake of readability\n",
        "    # Any line starting with \"#\" will be ignored by numpy.loadtxt\n",
        "    outfile.write('# Array shape: {0}\\n'.format(mcutl.shape))\n",
        "\n",
        "    # Iterating through a ndimensional array produces slices along\n",
        "    # the last axis. This is equivalent to data[i,:,:] in this case\n",
        "    for data_slice in mcutl:\n",
        "\n",
        "        # The formatting string indicates that I'm writing out\n",
        "        # the values in left-justified columns 7 characters in width\n",
        "        # with 2 decimal places.  \n",
        "        np.savetxt(outfile, data_slice, fmt='%s')\n",
        "\n",
        "        # Writing out a break to indicate different slices...\n",
        "        outfile.write('# New slice\\n')"
      ],
      "execution_count": 0,
      "outputs": []
    },
    {
      "metadata": {
        "id": "z8jJ_vARTDf0",
        "colab_type": "text"
      },
      "cell_type": "markdown",
      "source": [
        "### For getting the user - user similarity matrix with time smoothing "
      ]
    },
    {
      "metadata": {
        "id": "1jFRyaPLTTSB",
        "colab_type": "text"
      },
      "cell_type": "markdown",
      "source": [
        "#### To ge the user- user similarity given two users"
      ]
    },
    {
      "metadata": {
        "id": "9gzjimjx2_l_",
        "colab_type": "code",
        "colab": {}
      },
      "cell_type": "code",
      "source": [
        "### for gettin the matrix wuv given in section 3.3 of pdf\n",
        "def get_wuv(poi,mcutl,u,v):\n",
        "    z = (mcutl[u] * mcutl[v]).sum(axis = 1).sum()\n",
        "    x =  np.square(mcutl[u]).sum(axis = 1).sum(axis = 0)\n",
        "    y =  np.square(mcutl[v]).sum(axis = 1).sum(axis = 0)\n",
        "    return z/(math.sqrt(x) * math.sqrt(y))\n"
      ],
      "execution_count": 0,
      "outputs": []
    },
    {
      "metadata": {
        "id": "ytlEaowp4KY1",
        "colab_type": "code",
        "outputId": "c8e92e93-c786-4c46-e6b5-e53a93a1827f",
        "colab": {
          "base_uri": "https://localhost:8080/",
          "height": 68
        }
      },
      "cell_type": "code",
      "source": [
        "%time x= get_wuv(poiData,mcutl,0,12)\n",
        "print(x)"
      ],
      "execution_count": 0,
      "outputs": [
        {
          "output_type": "stream",
          "text": [
            "CPU times: user 2.86 ms, sys: 24 µs, total: 2.89 ms\n",
            "Wall time: 2.83 ms\n",
            "0.01168226482043208\n"
          ],
          "name": "stdout"
        }
      ]
    },
    {
      "metadata": {
        "id": "5M0Bjzl8TOg8",
        "colab_type": "text"
      },
      "cell_type": "markdown",
      "source": [
        "#### To get the complete w_uv matrix"
      ]
    },
    {
      "metadata": {
        "id": "FPyOHPUC6i9k",
        "colab_type": "code",
        "colab": {}
      },
      "cell_type": "code",
      "source": [
        "def get_wuv_matrix(poi,mcutl):\n",
        "    wuv = np.zeros(shape = (poi.numUsers,poi.numUsers), dtype = np.float)\n",
        "    for i in range(poi.numUsers):\n",
        "        for j in range(i+1,poi.numUsers):\n",
        "            wuv[i,j] = get_wuv(poi,mcutl,i,j)\n",
        "        #print(i)\n",
        "    return wuv"
      ],
      "execution_count": 0,
      "outputs": []
    },
    {
      "metadata": {
        "id": "GPakmnX0wXON",
        "colab_type": "code",
        "outputId": "9ed164fe-8849-411d-d87b-4566758d1437",
        "colab": {
          "base_uri": "https://localhost:8080/",
          "height": 51
        }
      },
      "cell_type": "code",
      "source": [
        "%time wuv_matrix = get_wuv_matrix(poiData,mcutl)"
      ],
      "execution_count": 0,
      "outputs": [
        {
          "output_type": "stream",
          "text": [
            "CPU times: user 50min, sys: 1min 17s, total: 51min 18s\n",
            "Wall time: 51min 20s\n"
          ],
          "name": "stdout"
        }
      ]
    },
    {
      "metadata": {
        "id": "_IfJDyPTHWHr",
        "colab_type": "code",
        "outputId": "3547c6ae-1e8c-40c8-b9fd-32f8b598a978",
        "colab": {
          "base_uri": "https://localhost:8080/",
          "height": 136
        }
      },
      "cell_type": "code",
      "source": [
        "for i in range(poiData.numUsers):\n",
        "    wuv_matrix[i,i] = 1.\n",
        "print(wuv_matrix)"
      ],
      "execution_count": 0,
      "outputs": [
        {
          "output_type": "stream",
          "text": [
            "[[1.         0.         0.         ... 0.00367704 0.         0.        ]\n",
            " [0.         1.         0.0060652  ... 0.0690119  0.00707514 0.01820557]\n",
            " [0.         0.         1.         ... 0.         0.         0.00719697]\n",
            " ...\n",
            " [0.         0.         0.         ... 1.         0.         0.        ]\n",
            " [0.         0.         0.         ... 0.         1.         0.        ]\n",
            " [0.         0.         0.         ... 0.         0.         1.        ]]\n"
          ],
          "name": "stdout"
        }
      ]
    },
    {
      "metadata": {
        "id": "takOKvxbTejp",
        "colab_type": "text"
      },
      "cell_type": "markdown",
      "source": [
        "## For getting the temporal influence from the train data"
      ]
    },
    {
      "metadata": {
        "id": "klBd_R6m-J9l",
        "colab_type": "code",
        "colab": {}
      },
      "cell_type": "code",
      "source": [
        "## for getting the final temporal influence given in section 3.3 \n",
        "def get_temporal_inf(poi,mcutl,wuv_matrix,timeSimi):\n",
        "    h = np.matmul(mcutl,timeSimi)\n",
        "    prediction  = np.zeros(shape = (poi.numUsers,poi.numLoc,poi.numTimeSlots), dtype = np.float)\n",
        "    for v in range(poi.numUsers):\n",
        "        prediction[v] = np.sum( h * (wuv_matrix[v].reshape((len(wuv_matrix[v]),1,1))) , axis = 0)  \n",
        "    return prediction\n"
      ],
      "execution_count": 0,
      "outputs": []
    },
    {
      "metadata": {
        "id": "WroiSTjowb9e",
        "colab_type": "code",
        "colab": {}
      },
      "cell_type": "code",
      "source": [
        "\n",
        "%time z = get_temporal_inf(poiData,mcutl,wuv_matrix,timeSimi)\n",
        "print(z)"
      ],
      "execution_count": 0,
      "outputs": []
    },
    {
      "metadata": {
        "id": "OzPh9LTLeNHP",
        "colab_type": "code",
        "colab": {}
      },
      "cell_type": "code",
      "source": [
        "! mkdir ujjieve\n"
      ],
      "execution_count": 0,
      "outputs": []
    },
    {
      "metadata": {
        "id": "mFABVURCYkh5",
        "colab_type": "code",
        "colab": {}
      },
      "cell_type": "code",
      "source": [
        "for u in range(poiData.numUsers):\n",
        "    np.savetxt('/content/ujjieve/pred'+str(u)+'.csv',z[u],delimiter = ',')\n",
        " "
      ],
      "execution_count": 0,
      "outputs": []
    },
    {
      "metadata": {
        "id": "XStVQd5FT0Do",
        "colab_type": "text"
      },
      "cell_type": "markdown",
      "source": [
        "# Spatial Influnce"
      ]
    },
    {
      "metadata": {
        "id": "Uh-2TnKaT6JW",
        "colab_type": "text"
      },
      "cell_type": "markdown",
      "source": [
        "#### For getting the distance between the two earth coordinates"
      ]
    },
    {
      "metadata": {
        "id": "JKrQwCgIY6jK",
        "colab_type": "code",
        "colab": {}
      },
      "cell_type": "code",
      "source": [
        "## Used for getting spatial influence sectino 4.1\n",
        "def get_distance(coord1,coord2):\n",
        "    \n",
        "    lon1,lat1=coord1\n",
        "    lon2,lat2=coord2\n",
        "\n",
        "    R=6371000                               # radius of Earth in meters\n",
        "    phi_1=math.radians(lat1)\n",
        "    phi_2=math.radians(lat2)\n",
        "\n",
        "    delta_phi=math.radians(lat2-lat1)\n",
        "    delta_lambda=math.radians(lon2-lon1)\n",
        "\n",
        "    a=math.sin(delta_phi/2.0)**2+\\\n",
        "       math.cos(phi_1)*math.cos(phi_2)*\\\n",
        "       math.sin(delta_lambda/2.0)**2\n",
        "    c=2*math.atan2(math.sqrt(a),math.sqrt(1-a))\n",
        "    return R*c / 1000.0\n"
      ],
      "execution_count": 0,
      "outputs": []
    },
    {
      "metadata": {
        "id": "dqleDtAcJGk2",
        "colab_type": "code",
        "outputId": "065c9e4d-cd09-47b8-bb44-9c61856fd99b",
        "colab": {
          "base_uri": "https://localhost:8080/",
          "height": 34
        }
      },
      "cell_type": "code",
      "source": [
        "print ( get_distance( poiData.getCoord(0),poiData.getCoord(1) ) )"
      ],
      "execution_count": 0,
      "outputs": [
        {
          "output_type": "stream",
          "text": [
            "7.898104656555957\n"
          ],
          "name": "stdout"
        }
      ]
    },
    {
      "metadata": {
        "id": "I9qYNy_VUCb4",
        "colab_type": "text"
      },
      "cell_type": "markdown",
      "source": [
        "#### For getting the distances between every pair of location"
      ]
    },
    {
      "metadata": {
        "id": "EBRrb9HICqRq",
        "colab_type": "code",
        "colab": {}
      },
      "cell_type": "code",
      "source": [
        "def getAllDistances(poi):\n",
        "  nL = poiData.numLoc\n",
        "#   nL = 2\n",
        "  x = np.array([get_distance(poi.locIdToCoord[i],poi.locIdToCoord[j]) for i in range(nL) for j in range(i+1,nL)])\n",
        "  tri = np.zeros((nL, nL))\n",
        "  tri[np.triu_indices(nL, 1)] = x\n",
        "  return tri + tri.T"
      ],
      "execution_count": 0,
      "outputs": []
    },
    {
      "metadata": {
        "id": "j4IIpqyOUKa9",
        "colab_type": "text"
      },
      "cell_type": "markdown",
      "source": [
        "### For getting the willingness from the train data"
      ]
    },
    {
      "metadata": {
        "id": "DQV7bnwzSNvk",
        "colab_type": "code",
        "colab": {}
      },
      "cell_type": "code",
      "source": [
        "def getWillingness(poi):\n",
        "    res =  {}\n",
        "    temp = poi.dateDict\n",
        "    for x in temp :\n",
        "        tempx = temp[x]\n",
        "        for u in tempx :\n",
        "            tempxu = tempx[u]\n",
        "            for loc1Ind in  range(len(tempxu) - 1 ) :\n",
        "                loc2Ind = loc1Ind + 1\n",
        "                loc1 = tempxu[loc1Ind]\n",
        "                loc2 = tempxu[loc2Ind]\n",
        "                if loc1 == loc2 :\n",
        "                    continue\n",
        "                coord1 = (poi.locIdToCoord[loc1][0],poi.locIdToCoord[loc1][1])\n",
        "                coord2 = (poi.locIdToCoord[loc2][0],poi.locIdToCoord[loc2][1])\n",
        "                distance =  get_distance(coord1,coord2)\n",
        "                if distance > int(distance) + 0.5:\n",
        "                    key = int(distance) + 1\n",
        "                else:\n",
        "                    key = int(distance) + 0.5\n",
        "                \n",
        "                if key in res:\n",
        "                    res[key] +=1\n",
        "                else:\n",
        "                    res[key] = 2\n",
        "    return res"
      ],
      "execution_count": 0,
      "outputs": []
    },
    {
      "metadata": {
        "id": "0lMI1ZVlU47q",
        "colab_type": "code",
        "outputId": "bbd5b7ae-35da-4616-9f5e-7e0c9dba2c1a",
        "colab": {
          "base_uri": "https://localhost:8080/",
          "height": 54
        }
      },
      "cell_type": "code",
      "source": [
        "willing= getWillingness(poiData)\n",
        "print(willing)"
      ],
      "execution_count": 7,
      "outputs": [
        {
          "output_type": "stream",
          "text": [
            "{5: 994, 0.5: 24024, 10.5: 546, 1: 4894, 4.5: 1220, 8: 614, 7: 776, 1.5: 3263, 10: 550, 13: 330, 3: 1750, 11: 665, 3.5: 1329, 12: 438, 7.5: 641, 2.5: 2156, 6.5: 803, 6: 986, 5.5: 937, 2: 2575, 18: 102, 12.5: 416, 24: 29, 19: 151, 15.5: 197, 14: 208, 8.5: 544, 4: 1175, 9: 503, 15: 208, 13.5: 293, 24.5: 23, 19.5: 90, 17: 174, 16: 173, 9.5: 533, 11.5: 570, 18.5: 99, 28.5: 12, 23: 49, 16.5: 210, 14.5: 234, 17.5: 174, 27: 21, 21: 46, 22.5: 91, 20: 50, 21.5: 40, 31.5: 7, 20.5: 45, 34.5: 2, 36: 2, 22: 49, 23.5: 28, 27.5: 15, 25.5: 18, 29: 8, 25: 34, 30.5: 9, 34: 3, 26: 14, 26.5: 13, 32.5: 3, 28: 9, 30: 15, 31: 3, 33: 2, 35: 2, 32: 2, 29.5: 7, 33.5: 4}\n"
          ],
          "name": "stdout"
        }
      ]
    },
    {
      "metadata": {
        "id": "pMK-LJ4_URJY",
        "colab_type": "text"
      },
      "cell_type": "markdown",
      "source": [
        "#### Converting it into log function"
      ]
    },
    {
      "metadata": {
        "id": "vxD70PCo8r3p",
        "colab_type": "code",
        "colab": {
          "base_uri": "https://localhost:8080/",
          "height": 479
        },
        "outputId": "8a537151-b210-46bd-b8ee-8b4a6ab07b84"
      },
      "cell_type": "code",
      "source": [
        "distances = list(willing)\n",
        "print(distances)\n",
        "print(np.log(distances))\n",
        "will = [ willing[x] for x in distances]\n",
        "print (will)\n",
        "print (np.log(will))\n",
        "log_will = np.log(will)\n",
        "log_dist = np.log(distances)"
      ],
      "execution_count": 8,
      "outputs": [
        {
          "output_type": "stream",
          "text": [
            "[5, 0.5, 10.5, 1, 4.5, 8, 7, 1.5, 10, 13, 3, 11, 3.5, 12, 7.5, 2.5, 6.5, 6, 5.5, 2, 18, 12.5, 24, 19, 15.5, 14, 8.5, 4, 9, 15, 13.5, 24.5, 19.5, 17, 16, 9.5, 11.5, 18.5, 28.5, 23, 16.5, 14.5, 17.5, 27, 21, 22.5, 20, 21.5, 31.5, 20.5, 34.5, 36, 22, 23.5, 27.5, 25.5, 29, 25, 30.5, 34, 26, 26.5, 32.5, 28, 30, 31, 33, 35, 32, 29.5, 33.5]\n",
            "[ 1.60943791 -0.69314718  2.35137526  0.          1.5040774   2.07944154\n",
            "  1.94591015  0.40546511  2.30258509  2.56494936  1.09861229  2.39789527\n",
            "  1.25276297  2.48490665  2.01490302  0.91629073  1.87180218  1.79175947\n",
            "  1.70474809  0.69314718  2.89037176  2.52572864  3.17805383  2.94443898\n",
            "  2.74084002  2.63905733  2.14006616  1.38629436  2.19722458  2.7080502\n",
            "  2.60268969  3.19867312  2.97041447  2.83321334  2.77258872  2.2512918\n",
            "  2.44234704  2.91777073  3.34990409  3.13549422  2.80336038  2.67414865\n",
            "  2.86220088  3.29583687  3.04452244  3.11351531  2.99573227  3.06805294\n",
            "  3.44998755  3.02042489  3.54095932  3.58351894  3.09104245  3.15700042\n",
            "  3.314186    3.23867845  3.36729583  3.21887582  3.41772668  3.52636052\n",
            "  3.25809654  3.27714473  3.48124009  3.33220451  3.40119738  3.4339872\n",
            "  3.49650756  3.55534806  3.4657359   3.38439026  3.51154544]\n",
            "[994, 24024, 546, 4894, 1220, 614, 776, 3263, 550, 330, 1750, 665, 1329, 438, 641, 2156, 803, 986, 937, 2575, 102, 416, 29, 151, 197, 208, 544, 1175, 503, 208, 293, 23, 90, 174, 173, 533, 570, 99, 12, 49, 210, 234, 174, 21, 46, 91, 50, 40, 7, 45, 2, 2, 49, 28, 15, 18, 8, 34, 9, 3, 14, 13, 3, 9, 15, 3, 2, 2, 2, 7, 4]\n",
            "[ 6.90173721 10.08680861  6.30261898  8.49576524  7.10660614  6.41999493\n",
            "  6.65415252  8.0904023   6.30991828  5.79909265  7.46737107  6.49978704\n",
            "  7.19218206  6.08221891  6.46302946  7.67600993  6.68835471  6.89365635\n",
            "  6.84268328  7.85360481  4.62497281  6.03068526  3.36729583  5.01727984\n",
            "  5.28320373  5.33753808  6.29894925  7.06902343  6.22059017  5.33753808\n",
            "  5.68017261  3.13549422  4.49980967  5.1590553   5.15329159  6.27852142\n",
            "  6.34563636  4.59511985  2.48490665  3.8918203   5.34710753  5.45532112\n",
            "  5.1590553   3.04452244  3.8286414   4.51085951  3.91202301  3.68887945\n",
            "  1.94591015  3.80666249  0.69314718  0.69314718  3.8918203   3.33220451\n",
            "  2.7080502   2.89037176  2.07944154  3.52636052  2.19722458  1.09861229\n",
            "  2.63905733  2.56494936  1.09861229  2.19722458  2.7080502   1.09861229\n",
            "  0.69314718  0.69314718  0.69314718  1.94591015  1.38629436]\n"
          ],
          "name": "stdout"
        }
      ]
    },
    {
      "metadata": {
        "id": "GoRIfiKuUVps",
        "colab_type": "text"
      },
      "cell_type": "markdown",
      "source": [
        "#### For Computing A and K parameters using Least squares regression method"
      ]
    },
    {
      "metadata": {
        "id": "_8G0b1MI9zjk",
        "colab_type": "code",
        "outputId": "886894d7-9645-43fd-b228-d56b4af47de2",
        "colab": {
          "base_uri": "https://localhost:8080/",
          "height": 51
        }
      },
      "cell_type": "code",
      "source": [
        "from sklearn.linear_model import LinearRegression\n",
        "reg = LinearRegression().fit(log_dist.reshape(-1,1), log_will)\n",
        "print (reg.coef_)\n",
        "print(reg.intercept_)\n",
        "poiData.K = reg.coef_\n",
        "poiData.A = reg.intercept_"
      ],
      "execution_count": 9,
      "outputs": [
        {
          "output_type": "stream",
          "text": [
            "[-2.23069687]\n",
            "10.40793976121805\n"
          ],
          "name": "stdout"
        }
      ]
    },
    {
      "metadata": {
        "id": "ZPBWUukvUeiv",
        "colab_type": "text"
      },
      "cell_type": "markdown",
      "source": [
        "#### For getting the willingness given the distance after obtaining the parameters"
      ]
    },
    {
      "metadata": {
        "id": "dxgsNsSSZz_3",
        "colab_type": "code",
        "colab": {}
      },
      "cell_type": "code",
      "source": [
        "def willingness(dist,poi):\n",
        "    ## Tune a and k using\n",
        "    if dist > int(dist) + 0.5:\n",
        "        key = int(dist) + 1\n",
        "    else:\n",
        "        key = int(dist) + 0.5\n",
        "    return poi.A*(key**poi.K)"
      ],
      "execution_count": 0,
      "outputs": []
    },
    {
      "metadata": {
        "id": "UXwgDKXIHYLh",
        "colab_type": "code",
        "outputId": "dfac1a11-0235-4db4-a077-a9381a5d35a9",
        "colab": {
          "base_uri": "https://localhost:8080/",
          "height": 34
        }
      },
      "cell_type": "code",
      "source": [
        "print(poiData.K)"
      ],
      "execution_count": 0,
      "outputs": [
        {
          "output_type": "stream",
          "text": [
            "[-2.23069687]\n"
          ],
          "name": "stdout"
        }
      ]
    },
    {
      "metadata": {
        "id": "SGcFpCwIUlLj",
        "colab_type": "text"
      },
      "cell_type": "markdown",
      "source": [
        "### For getting the probability of moving to a destination given an origin\n",
        "\n"
      ]
    },
    {
      "metadata": {
        "id": "lcqyqjw3ahl-",
        "colab_type": "code",
        "colab": {}
      },
      "cell_type": "code",
      "source": [
        "\n",
        "def prob_loc(loc1,loc2,poi):\n",
        "    coord1 = poi.getCoord(loc1)\n",
        "    coord2 = poi.getCoord(loc2)\n",
        "    wil = willingness(get_distance(coord1,coord2),poi)\n",
        "    tot_wil = 0.0\n",
        "    x = [ willingness(get_distance(coord1,poi.getCoord(t)),poi) for t in range(poi.numLoc)]\n",
        "    x[loc1]  = 0.0\n",
        "    tot_wil = np.sum(x)\n",
        "    return wil / tot_wil\n",
        "    "
      ],
      "execution_count": 0,
      "outputs": []
    },
    {
      "metadata": {
        "id": "Pk1xjtSeG4RT",
        "colab_type": "code",
        "outputId": "829e677b-5b9e-49bc-c254-cc8b366f9e7a",
        "colab": {
          "base_uri": "https://localhost:8080/",
          "height": 85
        }
      },
      "cell_type": "code",
      "source": [
        "print ( get_distance(poiData.getCoord(0),poiData.getCoord(1)) )\n",
        "%time x  = prob_loc(0,1,poiData) \n",
        "print(x)"
      ],
      "execution_count": 25,
      "outputs": [
        {
          "output_type": "stream",
          "text": [
            "7.898104656555957\n",
            "CPU times: user 44.2 ms, sys: 1.93 ms, total: 46.2 ms\n",
            "Wall time: 46.3 ms\n",
            "[1.87678204e-05]\n"
          ],
          "name": "stdout"
        }
      ]
    },
    {
      "metadata": {
        "id": "6t2klmvFVA8t",
        "colab_type": "text"
      },
      "cell_type": "markdown",
      "source": [
        "### For getting the matrix of above "
      ]
    },
    {
      "metadata": {
        "id": "k-xlz4r-BKnB",
        "colab_type": "code",
        "colab": {}
      },
      "cell_type": "code",
      "source": [
        "def getAllProbLoc(poi ):\n",
        "  allDis = getAllDistances(poiData)\n",
        "  wi = np.multiply(np.power(np.rint(allDis),poi.K),poi.A)\n",
        "  x , y = np.where(wi == np.inf)\n",
        "  wi[x,y] = 0\n",
        "  sumWi = np.sum(wi,axis=1)\n",
        "  temp = sumWi - wi.T \n",
        "  plL = np.divide( wi ,temp)\n",
        "  plL[x,y] = 1\n",
        "  return plL"
      ],
      "execution_count": 0,
      "outputs": []
    },
    {
      "metadata": {
        "id": "0UPy4g6dByWM",
        "colab_type": "code",
        "colab": {
          "base_uri": "https://localhost:8080/",
          "height": 122
        },
        "outputId": "767b0dca-9a26-4184-f52f-ce64a2077387"
      },
      "cell_type": "code",
      "source": [
        "%time conditionalProb = getAllProbLoc(poiData)"
      ],
      "execution_count": 14,
      "outputs": [
        {
          "output_type": "stream",
          "text": [
            "/usr/local/lib/python3.6/dist-packages/ipykernel_launcher.py:3: RuntimeWarning: divide by zero encountered in power\n",
            "  This is separate from the ipykernel package so we can avoid doing imports until\n"
          ],
          "name": "stderr"
        },
        {
          "output_type": "stream",
          "text": [
            "0  if this is not zero a blunder happend\n",
            "CPU times: user 1min 3s, sys: 298 ms, total: 1min 3s\n",
            "Wall time: 1min 4s\n"
          ],
          "name": "stdout"
        }
      ]
    },
    {
      "metadata": {
        "id": "-sDWFnnVVQH-",
        "colab_type": "text"
      },
      "cell_type": "markdown",
      "source": [
        "### For getting the prior probability using temporal popularity"
      ]
    },
    {
      "metadata": {
        "id": "MMEp5B9lhLVc",
        "colab_type": "code",
        "colab": {}
      },
      "cell_type": "code",
      "source": [
        "## sectino 4.2 for getting p_t(l)\n",
        "def get_prior_prob(loc,poi,time_slot):\n",
        "    long_term_pop = poi.tot_check_ins[loc] / np.sum(poi.tot_check_ins)\n",
        "    temporal_pop = poi.tot_check_ins_time[loc,time_slot] / np.sum(poi.tot_check_ins_time[:,time_slot])\n",
        "    return (poi.beta * temporal_pop)  + ( ( 1- poi.beta ) * long_term_pop )"
      ],
      "execution_count": 0,
      "outputs": []
    },
    {
      "metadata": {
        "id": "RkAa3zZLGZzb",
        "colab_type": "code",
        "outputId": "36a70ab9-79fe-4182-a4b6-6b4cff9d71d7",
        "colab": {
          "base_uri": "https://localhost:8080/",
          "height": 68
        }
      },
      "cell_type": "code",
      "source": [
        "poiData.beta = 0.7\n",
        "%time x = get_prior_prob(0,poiData,8)\n",
        "print (get_prior_prob(0,poiData,8))"
      ],
      "execution_count": 0,
      "outputs": [
        {
          "output_type": "stream",
          "text": [
            "CPU times: user 800 µs, sys: 58 µs, total: 858 µs\n",
            "Wall time: 761 µs\n",
            "0.0001523857271965644\n"
          ],
          "name": "stdout"
        }
      ]
    },
    {
      "metadata": {
        "id": "5zM8o6DwVWrf",
        "colab_type": "text"
      },
      "cell_type": "markdown",
      "source": [
        "## For getting the spatial Influence using temporal popularity"
      ]
    },
    {
      "metadata": {
        "id": "tMoWw9J1kJTy",
        "colab_type": "code",
        "colab": {}
      },
      "cell_type": "code",
      "source": [
        "## For getting the final spatial influence cutl given in section 4.3\n",
        "def get_spatial_inf(poi,user,time,loc):\n",
        "    x = np.zeros((poi.numLoc,))\n",
        "    for t in range(poi.numTimeSlots):\n",
        "        y = poi.createCheckInVector(user,t)\n",
        "        x = np.logical_or(y,x)\n",
        "    l = [t for t in range(poi.numLoc)]\n",
        "    l = np.array(l)\n",
        "    loc_hist = l[x == True]\n",
        "    post = [prob_loc(loc,t,poi) for t in loc_hist]\n",
        "\n",
        "    return get_prior_prob(loc,poi,time) * np.prod(post)\n",
        "    "
      ],
      "execution_count": 0,
      "outputs": []
    },
    {
      "metadata": {
        "id": "l4H5o-WWBI1m",
        "colab_type": "code",
        "outputId": "6e0355e2-636e-4568-b911-b9bb4385db94",
        "colab": {
          "base_uri": "https://localhost:8080/",
          "height": 51
        }
      },
      "cell_type": "code",
      "source": [
        "%time spa = get_spatial_inf(poiData,243,8,22)\n"
      ],
      "execution_count": 0,
      "outputs": [
        {
          "output_type": "stream",
          "text": [
            "CPU times: user 290 ms, sys: 3.84 ms, total: 294 ms\n",
            "Wall time: 294 ms\n"
          ],
          "name": "stdout"
        }
      ]
    },
    {
      "metadata": {
        "id": "Nu65nRB-A0MA",
        "colab_type": "code",
        "colab": {}
      },
      "cell_type": "code",
      "source": [
        "poiData.beta = 0.5\n",
        "%time print (get_prior_prob(0,poiData,8))\n",
        "def getAllPriorProb(poi):\n",
        "  return np.array([get_prior_prob(l,poi,t) for l in range(poi.numLoc) for t in range(poi.numTimeSlots)]).reshape((poi.numLoc,poi.numTimeSlots))"
      ],
      "execution_count": 0,
      "outputs": []
    },
    {
      "metadata": {
        "id": "NKlbRb-sB5Kb",
        "colab_type": "code",
        "colab": {
          "base_uri": "https://localhost:8080/",
          "height": 51
        },
        "outputId": "82da222a-2166-4327-f98d-f2b1c388cbeb"
      },
      "cell_type": "code",
      "source": [
        "%time allPriorProb = getAllPriorProb(poiData)"
      ],
      "execution_count": 18,
      "outputs": [
        {
          "output_type": "stream",
          "text": [
            "CPU times: user 6.45 s, sys: 10.5 ms, total: 6.46 s\n",
            "Wall time: 6.46 s\n"
          ],
          "name": "stdout"
        }
      ]
    },
    {
      "metadata": {
        "id": "JXBWg8lJVfLP",
        "colab_type": "text"
      },
      "cell_type": "markdown",
      "source": [
        "### For computing the UTP cube incorporating the spatial influence"
      ]
    },
    {
      "metadata": {
        "id": "0dn0tm-gAxCd",
        "colab_type": "code",
        "colab": {}
      },
      "cell_type": "code",
      "source": [
        "# poi , condProb(loc x loc) , allPrior(loc x timeSlot)\n",
        "def getMLEScore(poi , condProb):\n",
        "  uL = (np.sum(poi.data,axis=2) > 0)*1\n",
        "  print(uL.shape)\n",
        "  pUL = np.ones((poi.numUsers,poi.numLoc))\n",
        "  for i in range(poi.numUsers):\n",
        "    for j in range(poi.numLoc):\n",
        "      temp = np.array(uL[i,:] * condProb[j,:])\n",
        "      temp[temp == 0] = 1\n",
        "      pUL[i][j] = np.prod(temp)\n",
        "  return pUL\n",
        "  "
      ],
      "execution_count": 0,
      "outputs": []
    },
    {
      "metadata": {
        "id": "s31CuKKOO8GF",
        "colab_type": "code",
        "colab": {
          "base_uri": "https://localhost:8080/",
          "height": 68
        },
        "outputId": "fcab7f63-b150-4bd8-c5a5-7622d8f73bf5"
      },
      "cell_type": "code",
      "source": [
        "%time sp = getMLEScore(poiData,conditionalProb)"
      ],
      "execution_count": 20,
      "outputs": [
        {
          "output_type": "stream",
          "text": [
            "(2321, 5596)\n",
            "CPU times: user 10min 4s, sys: 229 ms, total: 10min 5s\n",
            "Wall time: 10min 5s\n"
          ],
          "name": "stdout"
        }
      ]
    },
    {
      "metadata": {
        "id": "lxysWG6zArrv",
        "colab_type": "code",
        "colab": {}
      },
      "cell_type": "code",
      "source": [
        "def getSpatialScore(mle , prior ,timeSlots):\n",
        "  finalScore = []\n",
        "  for t in range(timeSlots) :\n",
        "    finalScore.append(np.multiply(mle,prior[:,t]))\n",
        "  return np.array(finalScore)"
      ],
      "execution_count": 0,
      "outputs": []
    },
    {
      "metadata": {
        "id": "5uL-3aABAttH",
        "colab_type": "code",
        "colab": {
          "base_uri": "https://localhost:8080/",
          "height": 68
        },
        "outputId": "c373a7ae-8d1d-412d-c1f9-52a130884bc2"
      },
      "cell_type": "code",
      "source": [
        "print(allPriorProb.shape)\n",
        "%time cULTspatial = getSpatialScore(sp,allPriorProb,24)"
      ],
      "execution_count": 22,
      "outputs": [
        {
          "output_type": "stream",
          "text": [
            "(5596, 24)\n",
            "CPU times: user 2.61 s, sys: 1.29 s, total: 3.9 s\n",
            "Wall time: 3.9 s\n"
          ],
          "name": "stdout"
        }
      ]
    },
    {
      "metadata": {
        "id": "PIJTf0j1f5U4",
        "colab_type": "code",
        "colab": {}
      },
      "cell_type": "code",
      "source": [
        "nU = 2321 \n",
        "nL = 5596\n",
        "nT = 24\n",
        "prediction  = np.zeros(shape = (nU,nL,nT), dtype = np.float)"
      ],
      "execution_count": 0,
      "outputs": []
    },
    {
      "metadata": {
        "id": "E-aFM6dGgcX5",
        "colab_type": "code",
        "colab": {}
      },
      "cell_type": "code",
      "source": [
        "for u in range(nU):\n",
        "    prediction[u] = np.genfromtxt('content/ujjieve/pred'+str(u)+'.csv',delimiter = ',')"
      ],
      "execution_count": 0,
      "outputs": []
    },
    {
      "metadata": {
        "id": "27gcOxgVycu6",
        "colab_type": "code",
        "colab": {}
      },
      "cell_type": "code",
      "source": [
        "print(prediction)"
      ],
      "execution_count": 0,
      "outputs": []
    },
    {
      "metadata": {
        "id": "L2VyrzKoxEXa",
        "colab_type": "code",
        "colab": {}
      },
      "cell_type": "code",
      "source": [
        "spatial  = np.zeros(shape = (nU,nL,nT), dtype = np.float)\n",
        "for u in range(nU):\n",
        "    spatial[u] = np.genfromtxt('content/cult/cULTspatial'+str(u)+'.csv',delimiter = ',')"
      ],
      "execution_count": 0,
      "outputs": []
    },
    {
      "metadata": {
        "id": "d2xZxoRzxVO3",
        "colab_type": "code",
        "colab": {}
      },
      "cell_type": "code",
      "source": [
        "# for u in range(poiData.numUsers):\n",
        "#     prediction[u] = np.genfromtxt('content/ujjieve/pred'+str(u)+'.csv',delimiter = ',')"
      ],
      "execution_count": 0,
      "outputs": []
    },
    {
      "metadata": {
        "id": "CXRZY5OTV_OA",
        "colab_type": "text"
      },
      "cell_type": "markdown",
      "source": [
        "# For getting the combined UTP cube incorporating both temporal and spatial influence"
      ]
    },
    {
      "metadata": {
        "id": "UZQyyAIY5mHq",
        "colab_type": "code",
        "colab": {}
      },
      "cell_type": "code",
      "source": [
        "def get_Combined(cULT , cULP , alpha):\n",
        "    minCULT = np.amin(cULT)\n",
        "    maxCULT = np.amax(cULT)\n",
        "    minCULP = np.amin(cULP)\n",
        "    maxCULP = np.amax(cULP)\n",
        "    return (alpha * ((cULT-minCULT)/(maxCULT-minCULT)) +  ((1-alpha) * ((cULP-minCULP)/(maxCULP-minCULP))))"
      ],
      "execution_count": 0,
      "outputs": []
    },
    {
      "metadata": {
        "id": "CRG9bYHjWx_Y",
        "colab_type": "code",
        "colab": {}
      },
      "cell_type": "code",
      "source": [
        "total = get_Combined(prediction,spatial,.2)"
      ],
      "execution_count": 0,
      "outputs": []
    },
    {
      "metadata": {
        "id": "Xd67JqSvWWOK",
        "colab_type": "code",
        "colab": {}
      },
      "cell_type": "code",
      "source": [
        "! mkdir final3"
      ],
      "execution_count": 0,
      "outputs": []
    },
    {
      "metadata": {
        "id": "_8Qec97V1TwM",
        "colab_type": "code",
        "colab": {}
      },
      "cell_type": "code",
      "source": [
        "for u in range(nU):\n",
        "  np.savetxt(\"/content/final3/final\"+str(u)+\".csv\",total[u],delimiter=\",\")"
      ],
      "execution_count": 0,
      "outputs": []
    },
    {
      "metadata": {
        "id": "jKUs9xio87IO",
        "colab_type": "code",
        "colab": {}
      },
      "cell_type": "code",
      "source": [
        "! tar -czvf /content/final1.tar.gz /content/final1/"
      ],
      "execution_count": 0,
      "outputs": []
    },
    {
      "metadata": {
        "id": "Jyn5cZDhA_IC",
        "colab_type": "code",
        "colab": {}
      },
      "cell_type": "code",
      "source": [
        "total = np.zeros(shape = (nU,nL,nT),dtype = np.float)\n",
        "for u in range(nU):\n",
        "    total[u] = np.genfromtxt('final3/final'+str(u)+'.csv',delimiter = ',')"
      ],
      "execution_count": 0,
      "outputs": []
    },
    {
      "metadata": {
        "id": "AMZfrUKZWMZi",
        "colab_type": "text"
      },
      "cell_type": "markdown",
      "source": [
        "# For getting Computing the Precision and recall given the test data and the UTP cube"
      ]
    },
    {
      "metadata": {
        "id": "ZJjfijYdOAXH",
        "colab_type": "code",
        "colab": {}
      },
      "cell_type": "code",
      "source": [
        "from sklearn.metrics import confusion_matrix"
      ],
      "execution_count": 0,
      "outputs": []
    },
    {
      "metadata": {
        "id": "y27xdGh55oT-",
        "colab_type": "code",
        "colab": {}
      },
      "cell_type": "code",
      "source": [
        "def getPrecisionAndRecall(yTrue , yPred ):\n",
        "    yTrue = yTrue.flatten()\n",
        "    yPred = yPred.flatten()\n",
        "    tn, fp, fn, tp = confusion_matrix(yTrue,yPred).ravel()\n",
        "    precs = tp / (tp + fp) ;\n",
        "    recal = tp / (tp + fn) ;\n",
        "    return precs , recal ;"
      ],
      "execution_count": 0,
      "outputs": []
    },
    {
      "metadata": {
        "id": "FSV0m4cAAm4h",
        "colab_type": "code",
        "colab": {}
      },
      "cell_type": "code",
      "source": [
        "def getCombinedPrecisionRecall(finalScore , groundT , k , poi):\n",
        "    #k is max allowed predictions for each user\n",
        "    yP = np.zeros(groundT.shape)\n",
        "    nU = poi.numUsers\n",
        "    nT = poi.numTimeSlots\n",
        "    nL = poi.numLoc\n",
        "    print(finalScore)\n",
        "    print(groundT)\n",
        "    if finalScore.shape != groundT.shape :\n",
        "        return -1 , -1\n",
        "    for u in range(nU):\n",
        "        for t in range(nT):\n",
        "            temp = finalScore[u,:,t] \n",
        "            temp = np.multiply(temp,-1) #makes asd to des\n",
        "            inds = temp.argsort()[:k] #smallest k numbers\n",
        "            yP[u,inds,t] = 1\n",
        "\n",
        "    prec = np.zeros(nT)\n",
        "    reca = np.zeros(nT)\n",
        "    for t in range(nT) :\n",
        "        prec[t] , reca[t] = getPrecisionAndRecall(groundT[:,:,t],yP[:,:,t])\n",
        "\n",
        "    avgPrec = np.sum(prec) / nT\n",
        "    avgReca = np.sum(reca) / nT\n",
        "    return avgPrec , avgReca "
      ],
      "execution_count": 0,
      "outputs": []
    },
    {
      "metadata": {
        "id": "oW9MxanIL3Py",
        "colab_type": "code",
        "colab": {
          "base_uri": "https://localhost:8080/",
          "height": 425
        },
        "outputId": "36ec7a8e-34ef-46a3-ec4a-42ed5d2038cf"
      },
      "cell_type": "code",
      "source": [
        "pre,rec = getCombinedPrecisionRecall(total,poiData.data,5,poiData)"
      ],
      "execution_count": 14,
      "outputs": [
        {
          "output_type": "stream",
          "text": [
            "prec reca at  0 = 0.0009136592051164915 0.02237136465324385\n",
            "prec reca at  1 = 0.0001827318410232983 0.006644518272425249\n",
            "prec reca at  2 = 9.136592051164915e-05 0.004784688995215311\n",
            "prec reca at  3 = 0.0 0.0\n",
            "prec reca at  4 = 9.136592051164915e-05 0.007751937984496124\n",
            "prec reca at  5 = 0.0008222932846048424 0.07627118644067797\n",
            "prec reca at  6 = 0.0009136592051164915 0.054945054945054944\n",
            "prec reca at  7 = 0.0014618547281863865 0.04804804804804805\n",
            "prec reca at  8 = 0.0007309273640931932 0.015444015444015444\n",
            "prec reca at  9 = 0.0009136592051164915 0.015174506828528073\n",
            "prec reca at  10 = 0.0015532206486980357 0.02122347066167291\n",
            "prec reca at  11 = 0.0014618547281863865 0.01593625498007968\n",
            "prec reca at  12 = 0.0025582457743261763 0.01683704149128082\n",
            "prec reca at  13 = 0.002832343535861124 0.01732811626607043\n",
            "prec reca at  14 = 0.003015075376884422 0.02091254752851711\n",
            "prec reca at  15 = 0.0032891731384193696 0.024489795918367346\n",
            "prec reca at  16 = 0.003015075376884422 0.022372881355932205\n",
            "prec reca at  17 = 0.0033805390589310186 0.02377892030848329\n",
            "prec reca at  18 = 0.0044769301050708084 0.022497704315886134\n",
            "prec reca at  19 = 0.00429419826404751 0.01755041075429425\n",
            "prec reca at  20 = 0.002740977615349475 0.013452914798206279\n",
            "prec reca at  21 = 0.0016445865692096848 0.011104256631708822\n",
            "prec reca at  22 = 0.0008222932846048424 0.008840864440078585\n",
            "prec reca at  23 = 0.0009136592051164915 0.013869625520110958\n"
          ],
          "name": "stdout"
        }
      ]
    },
    {
      "metadata": {
        "id": "7ZsDQQDLPqEc",
        "colab_type": "code",
        "colab": {
          "base_uri": "https://localhost:8080/",
          "height": 34
        },
        "outputId": "765257fb-9c8f-4b9a-8b2f-f18b61e700ed"
      },
      "cell_type": "code",
      "source": [
        "print (rec,pre)"
      ],
      "execution_count": 16,
      "outputs": [
        {
          "output_type": "stream",
          "text": [
            "0.020901255274266412 0.0017549870564945941\n"
          ],
          "name": "stdout"
        }
      ]
    }
  ]
}